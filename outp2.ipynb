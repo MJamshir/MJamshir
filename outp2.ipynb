{
  "cells": [
    {
      "cell_type": "markdown",
      "metadata": {
        "id": "view-in-github",
        "colab_type": "text"
      },
      "source": [
        "<a href=\"https://colab.research.google.com/github/MJamshir/MJamshir/blob/main/outp2.ipynb\" target=\"_parent\"><img src=\"https://colab.research.google.com/assets/colab-badge.svg\" alt=\"Open In Colab\"/></a>"
      ]
    },
    {
      "cell_type": "code",
      "execution_count": null,
      "metadata": {
        "colab": {
          "base_uri": "https://localhost:8080/"
        },
        "id": "dBeSvCDcX7zC",
        "outputId": "6e7a61f3-82d5-436d-a74e-cedb991929c8"
      },
      "outputs": [
        {
          "name": "stdout",
          "output_type": "stream",
          "text": [
            "Requirement already satisfied: telethon in /usr/local/lib/python3.10/dist-packages (1.37.0)\n",
            "Requirement already satisfied: pyaes in /usr/local/lib/python3.10/dist-packages (from telethon) (1.6.1)\n",
            "Requirement already satisfied: rsa in /usr/local/lib/python3.10/dist-packages (from telethon) (4.9)\n",
            "Requirement already satisfied: pyasn1>=0.1.3 in /usr/local/lib/python3.10/dist-packages (from rsa->telethon) (0.6.1)\n"
          ]
        }
      ],
      "source": [
        "!pip install telethon\n",
        "\n"
      ]
    },
    {
      "cell_type": "code",
      "execution_count": null,
      "metadata": {
        "colab": {
          "base_uri": "https://localhost:8080/"
        },
        "id": "ZbnWuzYpbkgO",
        "outputId": "b8124bee-aec1-4e2b-f5e1-c97d43449b76"
      },
      "outputs": [
        {
          "name": "stdout",
          "output_type": "stream",
          "text": [
            "Requirement already satisfied: pytz in /usr/local/lib/python3.10/dist-packages (2024.2)\n"
          ]
        }
      ],
      "source": [
        "!pip install pytz\n"
      ]
    },
    {
      "cell_type": "code",
      "execution_count": null,
      "metadata": {
        "colab": {
          "background_save": true,
          "base_uri": "https://localhost:8080/"
        },
        "id": "T1UfrJWjrozn",
        "outputId": "04f94d73-e358-4d32-d46f-45da53aaf3ea"
      },
      "outputs": [
        {
          "name": "stdout",
          "output_type": "stream",
          "text": [
            "Signed in successfully as Mesut; remember to not break the ToS or you will risk an account ban!\n"
          ]
        },
        {
          "name": "stderr",
          "output_type": "stream",
          "text": [
            "ERROR:asyncio:Task was destroyed but it is pending!\n",
            "task: <Task pending name='Task-20618' coro=<Connection._send_loop() running at /usr/local/lib/python3.10/dist-packages/telethon/network/connection/connection.py:322> wait_for=<Future pending cb=[Task.__wakeup()]>>\n",
            "ERROR:asyncio:Task was destroyed but it is pending!\n",
            "task: <Task pending name='Task-20619' coro=<Connection._recv_loop() running at /usr/local/lib/python3.10/dist-packages/telethon/network/connection/connection.py:341> wait_for=<Future pending cb=[Task.__wakeup()]>>\n",
            "ERROR:asyncio:Task was destroyed but it is pending!\n",
            "task: <Task pending name='Task-20620' coro=<MTProtoSender._send_loop() running at /usr/local/lib/python3.10/dist-packages/telethon/network/mtprotosender.py:464> wait_for=<Future pending cb=[Task.__wakeup()]>>\n",
            "ERROR:asyncio:Task was destroyed but it is pending!\n",
            "task: <Task pending name='Task-20621' coro=<MTProtoSender._recv_loop() running at /usr/local/lib/python3.10/dist-packages/telethon/network/mtprotosender.py:507> wait_for=<Future pending cb=[Task.__wakeup()]>>\n",
            "Exception ignored in: <coroutine object Connection._recv_loop at 0x7c93dfd81cb0>\n",
            "Traceback (most recent call last):\n",
            "  File \"/usr/local/lib/python3.10/dist-packages/telethon/extensions/binaryreader.py\", line 120, in tgread_object\n",
            "    constructor_id = self.read_int(signed=False)\n",
            "RuntimeError: coroutine ignored GeneratorExit\n"
          ]
        }
      ],
      "source": [
        "import re\n",
        "from telethon import TelegramClient, events, Button\n",
        "from telethon.sessions import StringSession\n",
        "from telethon.tl.types import KeyboardButtonCallback\n",
        "\n",
        "# اطلاعات API و شماره تلفن (برای کاربر شخصی)\n",
        "api_id = 22987403\n",
        "api_hash = '0a0b2c4093ddee4dcdb84895c591365d'\n",
        "phone_number = '+905013513954'\n",
        "\n",
        "# توکن ربات (برای ارسال پیام)\n",
        "bot_token = '7533266828:AAEERKEbeldNTaoqKV3QfCTrvPmsBtpop6Q'\n",
        "\n",
        "# ذخیره‌سازی جلسه به صورت رشته‌ای\n",
        "user_session_string = None\n",
        "bot_session_string = None\n",
        "\n",
        "# کانال‌ها\n",
        "source_channels = {\n",
        "    'آخرین قیمت انس جهانی': 't.me/XauusdPricenews',\n",
        "    'آخرین نرخ درهم به تومان': 't.me/nerkharzazad',\n",
        "    'آخرین نرخ تتر به تومن': 't.me/istanbul_tether'\n",
        "}\n",
        "\n",
        "# شناسه کانال مقصد\n",
        "destination_channel = 't.me/Nerkh1dolari'\n",
        "\n",
        "def contains_number(text):\n",
        "    return bool(re.search(r'\\d', text))\n",
        "\n",
        "def process_message(channel_name, message_text):\n",
        "    if channel_name == 'آخرین نرخ تتر به تومن':\n",
        "        # حذف \"آخرین نرخ تتر به تومن:\" و \"istanbulexchange.com\" از پیام\n",
        "        message_text = re.sub(r'آخرین نرخ تتر به تومن:\\s*', '', message_text)\n",
        "        message_text = re.sub(r'\\s*istanbulexchange\\.com\\s*', '', message_text)\n",
        "    return message_text.strip()\n",
        "\n",
        "async def get_last_message_with_number(client, channel):\n",
        "    async for message in client.iter_messages(channel):\n",
        "        if message.text and contains_number(message.text):\n",
        "            return message\n",
        "    return None\n",
        "\n",
        "async def main():\n",
        "    user_client = TelegramClient(StringSession(user_session_string), api_id, api_hash)\n",
        "    bot_client = TelegramClient(StringSession(bot_session_string), api_id, api_hash)\n",
        "\n",
        "    await user_client.start(phone_number)\n",
        "    await bot_client.start(bot_token=bot_token)\n",
        "\n",
        "    last_message_id = None\n",
        "\n",
        "    @bot_client.on(events.NewMessage(pattern='/start'))\n",
        "    async def handler(event):\n",
        "        buttons = [\n",
        "            [KeyboardButtonCallback(name, channel.encode()) for name, channel in source_channels.items()]\n",
        "        ]\n",
        "        await bot_client.send_message(destination_channel, \"برای دیدن بروزترین قیمت‌ها، یکی از گزینه‌های زیر را انتخاب کنید:\", buttons=buttons)\n",
        "\n",
        "    @bot_client.on(events.CallbackQuery)\n",
        "    async def callback(event):\n",
        "        nonlocal last_message_id\n",
        "        channel = event.data.decode()\n",
        "        message = await get_last_message_with_number(user_client, channel)\n",
        "\n",
        "        if message:\n",
        "            # حذف پیام قبلی اگر وجود داشته باشد\n",
        "            if last_message_id:\n",
        "                await bot_client.delete_messages(destination_channel, last_message_id)\n",
        "\n",
        "            # پردازش پیام\n",
        "            channel_name = next((name for name, url in source_channels.items() if url == channel), \"نامشخص\")\n",
        "            processed_message = process_message(channel_name, message.text)\n",
        "\n",
        "            # ارسال پیام جدید و ذخیره شناسه آن\n",
        "            new_message = await bot_client.send_message(destination_channel, f\"{channel_name}:\\n{processed_message}\", buttons=[\n",
        "                [Button.inline(\"بروزرسانی\", channel.encode())]\n",
        "            ])\n",
        "            last_message_id = new_message.id\n",
        "        else:\n",
        "            await bot_client.send_message(destination_channel, \"پستی با اعداد یافت نشد.\")\n",
        "\n",
        "    await bot_client.run_until_disconnected()\n",
        "    await user_client.run_until_disconnected()\n",
        "\n",
        "if __name__ == '__main__':\n",
        "    import asyncio\n",
        "    asyncio.run(main())"
      ]
    },
    {
      "cell_type": "code",
      "execution_count": null,
      "metadata": {
        "id": "ZUePaLH1fKs1"
      },
      "outputs": [],
      "source": []
    }
  ],
  "metadata": {
    "colab": {
      "provenance": [],
      "authorship_tag": "ABX9TyOlrKeC42CFHtdyXlVig8AW",
      "include_colab_link": true
    },
    "kernelspec": {
      "display_name": "Python 3",
      "name": "python3"
    },
    "language_info": {
      "name": "python"
    }
  },
  "nbformat": 4,
  "nbformat_minor": 0
}